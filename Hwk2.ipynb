{
 "cells": [
  {
   "cell_type": "markdown",
   "metadata": {},
   "source": [
    "# Implémentation du réseau de neurones et expérimentation"
   ]
  },
  {
   "cell_type": "code",
   "execution_count": 43,
   "metadata": {
    "collapsed": false
   },
   "outputs": [],
   "source": [
    "import numpy as np\n",
    "from sklearn import datasets"
   ]
  },
  {
   "cell_type": "markdown",
   "metadata": {},
   "source": [
    "## 0. Implémentation de fonctions utiles\n",
    "Calcul numériquement stable du softmax"
   ]
  },
  {
   "cell_type": "code",
   "execution_count": 44,
   "metadata": {
    "collapsed": true
   },
   "outputs": [],
   "source": [
    "def softmax_vector(x):\n",
    "    '''\n",
    "    x:  is a data vector.\n",
    "    returns: the result of the softmax function applied to the data vector.\n",
    "    '''\n",
    "    max_comp = np.amax(x)\n",
    "    normalized  = x - max_comp\n",
    "    \n",
    "    exponential = np.exp(normalized)\n",
    "    \n",
    "    return exponential/np.sum(exponential)"
   ]
  },
  {
   "cell_type": "code",
   "execution_count": 45,
   "metadata": {
    "collapsed": true
   },
   "outputs": [],
   "source": [
    "def softmax(X):\n",
    "    '''\n",
    "    X: matrix that holds the data, every row is a data vector.\n",
    "    returns: matrix where every row is the result of the softmax function applied to the corresponding data vector.\n",
    "    '''\n",
    "    \n",
    "    max_comp = np.amax(X, axis=1)\n",
    "    normalized  = X - max_comp.reshape(X.shape[0], 1)\n",
    "    \n",
    "    exponential = np.exp(normalized)\n",
    "    \n",
    "    return exponential/np.sum(exponential, axis=1).reshape(X.shape[0], 1)"
   ]
  },
  {
   "cell_type": "markdown",
   "metadata": {},
   "source": [
    "Fonction utilitaire pour calculer relu($x$)"
   ]
  },
  {
   "cell_type": "code",
   "execution_count": 46,
   "metadata": {
    "collapsed": true
   },
   "outputs": [],
   "source": [
    "def relu(x):\n",
    "    return np.maximum(x, np.zeros(x.shape))\n",
    "\n",
    "def onehot(m, y):\n",
    "    return np.eye(m)[y]\n",
    "\n",
    "def onehot_matrix(m, targets):\n",
    "    \"\"\"\n",
    "    Returns: onehot matrix where every column is a onehot vector of the coressponding target\n",
    "    \"\"\"\n",
    "    eye = np.eye(m)\n",
    "    onehot_matrix = np.zeros((m,len(targets)))\n",
    "    \n",
    "    for i, y in enumerate(targets):\n",
    "        onehot_matrix[:,i] = eye[y]\n",
    "        \n",
    "    return onehot_matrix"
   ]
  },
  {
   "cell_type": "markdown",
   "metadata": {},
   "source": [
    "## 1. Calcul du gradient sur un exemple"
   ]
  },
  {
   "cell_type": "markdown",
   "metadata": {},
   "source": [
    "Implementation de fprop et bprop pour calculer le gradient sur un exemple"
   ]
  },
  {
   "cell_type": "code",
   "execution_count": 47,
   "metadata": {
    "collapsed": true
   },
   "outputs": [],
   "source": [
    "class NeuralNet_basic:\n",
    "    \n",
    "    def __init__(self, n_input, n_hidden, n_out):\n",
    "        \n",
    "        self.n_in = n_input\n",
    "        self.n_h = n_hidden\n",
    "        self.n_o = n_out\n",
    "        \n",
    "        low_bound = -1 / np.sqrt([self.n_in, self.n_h])\n",
    "        up_bound = 1 / np.sqrt([self.n_in, self.n_h])\n",
    "        \n",
    "        # Initialize the parameters\n",
    "        self.W1 = np.random.uniform(low_bound[0], up_bound[0], size=(self.n_h, self.n_in))  # d_h x d\n",
    "        self.W2 = np.random.uniform(low_bound[1], up_bound[1], size=(self.n_o, self.n_h))  # m x d_h\n",
    "        self.b1 = np.zeros(self.n_h)  # dimension d_h\n",
    "        self.b2 = np.zeros(self.n_o) # dimension m\n",
    "    \n",
    "    def fprop(self, x):\n",
    "        '''Computes activations for every layer'''\n",
    "        self.ha = self.W1.dot(x) + self.b1\n",
    "        self.hs = relu(self.ha)\n",
    "        self.oa = self.W2.dot(self.hs) + self.b2\n",
    "        self.os = softmax_vector(self.oa)\n",
    "            \n",
    "    def bprop(self, x, y):\n",
    "        '''Computes the gradients, must be executed after fprop'''\n",
    "                      \n",
    "        grad_oa = self.os - onehot(self.n_o, y)\n",
    "        grad_b2 = grad_oa\n",
    "        grad_W2 = np.outer(grad_oa, self.hs)\n",
    "        grad_hs = self.W2.T.dot(grad_oa)\n",
    "        grad_ha = grad_hs * (self.ha > 0)\n",
    "        grad_W1 = np.outer(grad_ha, x)\n",
    "        grad_b1 = grad_ha\n",
    "        \n",
    "        return grad_W1, grad_W2, grad_b1, grad_b2"
   ]
  },
  {
   "cell_type": "markdown",
   "metadata": {},
   "source": [
    "## 2. Vérification du gradient par différences finies"
   ]
  },
  {
   "cell_type": "markdown",
   "metadata": {},
   "source": [
    "On va maintenant vérifier que le gradient calculé est juste. Pour cela on va calculer une approximation du gradient en utilisant la méthode de la différence finie.\n",
    "\n",
    "Pour chaque composante de w1, on va:\n",
    " 1. calculer la valeur de la fonction objectif $L$\n",
    " 2. ajouter une petite valeur $\\epsilon$ à la composante\n",
    " 3. recalculer la valeur de la fonction objectif $L'$\n",
    " 4. remettre à l'ancienne valeur la composante (c'est à dire soustraire $\\epsilon$)\n",
    "\n",
    "Le gradient par différences finies sera dans ce cas donné par:\n",
    "$\\Big( \\frac{\\partial L}{\\partial W_{1}} \\Big)_{ij} = \\frac{1}{\\epsilon} (L' - L)$"
   ]
  },
  {
   "cell_type": "code",
   "execution_count": 48,
   "metadata": {
    "collapsed": true
   },
   "outputs": [],
   "source": [
    "def compute_loss(x, y, W1, W2, b1, b2):\n",
    "    ha = W1.dot(x) + b1\n",
    "    hs = relu(ha)\n",
    "    oa = W2.dot(hs) + b2\n",
    "    os = softmax_vector(oa)\n",
    "    \n",
    "    return -np.log(os[y])"
   ]
  },
  {
   "cell_type": "markdown",
   "metadata": {},
   "source": [
    "Fonction pour calculer le gradient par differences finies"
   ]
  },
  {
   "cell_type": "code",
   "execution_count": 49,
   "metadata": {
    "collapsed": true
   },
   "outputs": [],
   "source": [
    "def finite_diff(x, y, neural_net, eps=1e-5):\n",
    "    \n",
    "    # params\n",
    "    W1 = neural_net.W1\n",
    "    W2 = neural_net.W2\n",
    "    b1 = neural_net.b1\n",
    "    b2 = neural_net.b2\n",
    "    \n",
    "    # gradients\n",
    "    grad_w1_diff = np.zeros(W1.shape)\n",
    "    grad_w2_diff = np.zeros(W2.shape)\n",
    "    grad_b1_diff = np.zeros(b1.shape)\n",
    "    grad_b2_diff = np.zeros(b2.shape)\n",
    "    \n",
    "    neural_net.fprop(x)\n",
    "    loss = compute_loss(x, y, W1, W2, b1, b2)\n",
    "    \n",
    "    for i in range(W1.shape[0]):\n",
    "        for j in range(W1.shape[1]):\n",
    "            W1[i,j] = W1[i,j] + eps\n",
    "            loss_prime = compute_loss(x, y, W1, W2, b1, b2)\n",
    "            grad_w1_diff[i, j] = (loss_prime - loss) / epsilon\n",
    "            W1[i,j] = W1[i,j] - eps\n",
    "    for i in range(W2.shape[0]):\n",
    "        for j in range(W2.shape[1]):\n",
    "            W2[i,j] = W2[i,j] + eps\n",
    "            loss_prime = compute_loss(x, y, W1, W2, b1, b2)\n",
    "            grad_w2_diff[i, j] = (loss_prime - loss) / epsilon\n",
    "            W2[i,j] = W2[i,j] - eps\n",
    "    for i in range(b1.shape[0]):\n",
    "            b1[i] = b1[i] + eps\n",
    "            loss_prime = compute_loss(x, y, W1, W2, b1, b2)\n",
    "            grad_b1_diff[i] = (loss_prime - loss) / epsilon\n",
    "            b1[i] = b1[i] - eps\n",
    "    for i in range(b1.shape[0]):\n",
    "            b2[i] = b2[i] + eps\n",
    "            loss_prime = compute_loss(x, y, W1, W2, b1, b2)\n",
    "            grad_b2_diff[i] = (loss_prime - loss) / epsilon\n",
    "            b2[i] = b2[i] - eps\n",
    "            \n",
    "    return grad_w1_diff, grad_w2_diff, grad_b1_diff, grad_b2_diff\n",
    "    "
   ]
  },
  {
   "cell_type": "markdown",
   "metadata": {},
   "source": [
    "Affichage de vérification du gradient par différence finie"
   ]
  },
  {
   "cell_type": "code",
   "execution_count": 50,
   "metadata": {
    "collapsed": false
   },
   "outputs": [],
   "source": [
    "data = np.loadtxt(open('2moons.txt','r'))"
   ]
  },
  {
   "cell_type": "code",
   "execution_count": 73,
   "metadata": {
    "collapsed": false
   },
   "outputs": [
    {
     "name": "stdout",
     "output_type": "stream",
     "text": [
      "Différence entre les deux gradients pour W1, W2, b1, b2:\n",
      "[[ -5.58324467e-10  -1.32355634e-08]\n",
      " [  0.00000000e+00  -0.00000000e+00]]\n",
      "[[ -8.72016346e-08  -0.00000000e+00]\n",
      " [ -8.72033004e-08   0.00000000e+00]]\n",
      "[ -4.11289126e-09   0.00000000e+00]\n",
      "[ -1.24994118e-06  -1.24992580e-06]\n"
     ]
    },
    {
     "name": "stderr",
     "output_type": "stream",
     "text": [
      "C:\\Users\\zimmae\\Anaconda3\\lib\\site-packages\\ipykernel\\__main__.py:7: VisibleDeprecationWarning: using a non-integer number instead of an integer will result in an error in the future\n",
      "C:\\Users\\zimmae\\Anaconda3\\lib\\site-packages\\ipykernel\\__main__.py:5: VisibleDeprecationWarning: using a non-integer number instead of an integer will result in an error in the future\n"
     ]
    }
   ],
   "source": [
    "nn = NeuralNet_basic(2, 2, 2)\n",
    "x = data[0,:-1]\n",
    "y = data[0,-1]\n",
    "epsilon = 1e-5\n",
    "\n",
    "# gradients par différence finie\n",
    "grad_w1_diff, grad_w2_diff, grad_b1_diff, grad_b2_diff = finite_diff(x, y, nn, epsilon)\n",
    "\n",
    "# gradients par implémentation dans classe neural_net\n",
    "grad_W1, grad_W2, grad_b1, grad_b2 = nn.bprop(x,y)\n",
    "\n",
    "# affichage de la différence\n",
    "print('Différence entre les deux gradients pour W1, W2, b1, b2:')\n",
    "#print(grad_w1_diff)\n",
    "#print(grad_W1)\n",
    "print(grad_W1 - grad_w1_diff)\n",
    "print(grad_W2 - grad_w2_diff)\n",
    "print(grad_b1 - grad_b1_diff)\n",
    "print(grad_b2 - grad_b2_diff)"
   ]
  },
  {
   "cell_type": "markdown",
   "metadata": {},
   "source": [
    "## 3. Ajout de hyperparamètre de taille de lot K\n",
    "La fonction bprop est modifiée pour calculer le gradient sur un batch d'exemple. La fonction train est également ajoutée."
   ]
  },
  {
   "cell_type": "code",
   "execution_count": 74,
   "metadata": {
    "collapsed": false
   },
   "outputs": [],
   "source": [
    "class NeuralNet_loop:\n",
    "    \n",
    "    def __init__(self, n_input, n_hidden, n_out, lambdas, K = 1):\n",
    "        \n",
    "        self.n_in = n_input\n",
    "        self.n_h = n_hidden\n",
    "        self.n_o = n_out\n",
    "        self.K = K\n",
    "        self.lambdas = lambdas\n",
    "        \n",
    "        low_bound = -1 / np.sqrt([self.n_in, self.n_h])\n",
    "        up_bound = 1 / np.sqrt([self.n_in, self.n_h])\n",
    "        \n",
    "        np.random.seed(123)\n",
    "        \n",
    "        # Initialize the parameters\n",
    "        self.W1 = np.random.uniform(low_bound[0], up_bound[0], size=(self.n_h, self.n_in))  # d_h x d\n",
    "        self.W2 = np.random.uniform(low_bound[1], up_bound[1], size=(self.n_o, self.n_h))  # m x d_h\n",
    "        self.b1 = np.zeros(self.n_h)  # dimension d_h\n",
    "        self.b2 = np.zeros(self.n_o) # dimension m\n",
    "    \n",
    "    def fprop(self, x):\n",
    "        '''Computes activations for every layer'''\n",
    "        ha = self.W1.dot(x) + self.b1\n",
    "        hs = relu(ha)\n",
    "        oa = self.W2.dot(hs) + self.b2\n",
    "        os = softmax_vector(oa)\n",
    "        return ha, hs, oa, os\n",
    "            \n",
    "    def bprop(self, X, Y):\n",
    "        '''Computes the gradients over all examples in (X,Y) with loop'''\n",
    "        grad_W1_mean = np.zeros((self.n_h, self.n_in))\n",
    "        grad_W2_mean = np.zeros((self.n_o, self.n_h))\n",
    "        grad_b1_mean = np.zeros(self.n_h)\n",
    "        grad_b2_mean = np.zeros(self.n_o)\n",
    "        \n",
    "        n = X.shape[0]\n",
    "        loss = 0.\n",
    "        \n",
    "        for i in range(n):\n",
    "            \n",
    "            ha, hs, oa, os = self.fprop(X[i,:])\n",
    "            loss += -np.log(os[Y[i]])\n",
    "            \n",
    "            grad_oa = os - onehot(self.n_o, Y[i])\n",
    "            grad_b2 = grad_oa\n",
    "            grad_W2 = np.outer(grad_oa, hs)\n",
    "            grad_hs = self.W2.T.dot(grad_oa)\n",
    "            grad_ha = grad_hs * (ha > 0)\n",
    "            grad_W1 = np.outer(grad_ha, X[i,:])\n",
    "            grad_b1 = grad_ha\n",
    "            \n",
    "            grad_W1_mean = grad_W1_mean + grad_W1 / n\n",
    "            grad_W2_mean = grad_W2_mean + grad_W2 / n\n",
    "            grad_b1_mean = grad_b1_mean + grad_b1 / n\n",
    "            grad_b2_mean = grad_b2_mean + grad_b2 / n\n",
    "        \n",
    "        return grad_W1_mean, grad_W2_mean, grad_b1_mean, grad_b2_mean, loss \n",
    "    \n",
    "    def compute_loss(self, x, y):\n",
    "        _, _, _, os = self.fprop(x)\n",
    "        return -np.log(self.os[y])\n",
    "    \n",
    "    def train(self, train_data, max_iter, eta=0.05):\n",
    "        \n",
    "        n_batches = int(np.ceil(train_data.shape[0]/self.K)) # number of batches\n",
    "        \n",
    "        # Initialize batch start and end indices\n",
    "        \n",
    "        for i in range(max_iter):\n",
    "            loss = 0.\n",
    "            for j in range(0,train_data.shape[0],self.K):\n",
    "                batch = train_data[j:j+self.K]\n",
    "                \n",
    "                grad_W1_mean, grad_W2_mean, grad_b1_mean, grad_b2_mean, bloss = self.bprop(batch[:,:-1], batch[:,-1]) \n",
    "                loss += bloss\n",
    "                \n",
    "                n = len(batch)\n",
    "                \n",
    "                #regularization\n",
    "                penality_grad_W1 = self.lambdas[0][0] * np.sign(self.W1) + 2 * self.lambdas[0][1] * self.W1\n",
    "                penality_grad_W2 = self.lambdas[1][0] * np.sign(self.W2) + 2 * self.lambdas[1][1] * self.W2\n",
    "                \n",
    "                self.W1 = self.W1 - eta * (grad_W1_mean + penality_grad_W1)\n",
    "                self.W2 = self.W2 - eta * (grad_W2_mean + penality_grad_W2)\n",
    "                self.b1 = self.b1 - eta * grad_b1_mean\n",
    "                self.b2 = self.b2 - eta * grad_b2_mean\n",
    "                \n",
    "            if i%100 == 0:\n",
    "                print('The loss after epoque ', i, ' is ', loss / train_data.shape[0])\n",
    "                    \n",
    "    def compute_predictions(self, test_data):\n",
    "\n",
    "        pred = np.empty((test_data.shape[0],self.n_o))\n",
    "\n",
    "        for i in range(test_data.shape[0]):\n",
    "            _, _, _, os = self.fprop(test_data[i,:])\n",
    "            pred[i,:] = os\n",
    "\n",
    "        return pred\n"
   ]
  },
  {
   "cell_type": "markdown",
   "metadata": {},
   "source": [
    "## 4. Vérification du gradient par différence finie"
   ]
  },
  {
   "cell_type": "markdown",
   "metadata": {},
   "source": [
    "Affichage de vérification du gradient pour un lot de 10 exemples"
   ]
  },
  {
   "cell_type": "code",
   "execution_count": 72,
   "metadata": {
    "collapsed": false
   },
   "outputs": [
    {
     "name": "stdout",
     "output_type": "stream",
     "text": [
      "Différence entre les deux gradients pour W1, W2, b1, b2\n",
      "[[ -1.37831296e-08  -1.77901403e-07]\n",
      " [ -4.38070745e-08  -1.18092063e-07]]\n",
      "[[ -1.41384634e-07  -4.08140944e-08]\n",
      " [ -1.41384729e-07  -4.08172739e-08]]\n",
      "[ -6.75580648e-08  -6.82009196e-08]\n",
      "[ -1.24341350e-06  -1.24341613e-06]\n"
     ]
    },
    {
     "name": "stderr",
     "output_type": "stream",
     "text": [
      "C:\\Users\\zimmae\\Anaconda3\\lib\\site-packages\\ipykernel\\__main__.py:7: VisibleDeprecationWarning: using a non-integer number instead of an integer will result in an error in the future\n",
      "C:\\Users\\zimmae\\Anaconda3\\lib\\site-packages\\ipykernel\\__main__.py:43: VisibleDeprecationWarning: using a non-integer number instead of an integer will result in an error in the future\n",
      "C:\\Users\\zimmae\\Anaconda3\\lib\\site-packages\\ipykernel\\__main__.py:5: VisibleDeprecationWarning: using a non-integer number instead of an integer will result in an error in the future\n"
     ]
    }
   ],
   "source": [
    "lambdas = np.array([[0, 0],\n",
    "       [0, 0]])\n",
    "nn = NeuralNet_loop(2, 2, 2, lambdas)\n",
    "X = data[0:10,:-1]\n",
    "Y = data[0:10,-1]\n",
    "\n",
    "# params\n",
    "W1 = nn.W1\n",
    "W2 = nn.W2\n",
    "b1 = nn.b1\n",
    "b2 = nn.b2\n",
    "\n",
    "# gradients par différence finie\n",
    "grad_w1_diff = np.zeros(W1.shape)\n",
    "grad_w2_diff = np.zeros(W2.shape)\n",
    "grad_b1_diff = np.zeros(b1.shape)\n",
    "grad_b2_diff = np.zeros(b2.shape)\n",
    "\n",
    "for i in range(X.shape[0]):\n",
    "    grad_w1, grad_w2, grad_b1, grad_b2 = finite_diff(X[i,:], Y[i], nn, epsilon)\n",
    "    grad_w1_diff += grad_w1 / X.shape[0]\n",
    "    grad_w2_diff += grad_w2 / X.shape[0]\n",
    "    grad_b1_diff += grad_b1 / X.shape[0]\n",
    "    grad_b2_diff += grad_b2 / X.shape[0]\n",
    "    \n",
    "# gradients par implémentation dans classe neural_net    \n",
    "grad_W1, grad_W2, grad_b1, grad_b2, _ = nn.bprop(X,Y)\n",
    "\n",
    "# affichage de la différence\n",
    "print('Différence entre les deux gradients pour W1, W2, b1, b2:')\n",
    "#print(grad_w1_diff)\n",
    "#print(grad_W1)\n",
    "print(grad_W1 - grad_w1_diff)\n",
    "print(grad_W2 - grad_w2_diff)\n",
    "print(grad_b1 - grad_b1_diff)\n",
    "print(grad_b2 - grad_b2_diff)"
   ]
  },
  {
   "cell_type": "markdown",
   "metadata": {},
   "source": [
    "## 5. Entraînement sur 2 moons et visualisation des régions de décision"
   ]
  },
  {
   "cell_type": "markdown",
   "metadata": {},
   "source": [
    "Fonction de calcul du taux d'erreur de classification"
   ]
  },
  {
   "cell_type": "code",
   "execution_count": 58,
   "metadata": {
    "collapsed": true
   },
   "outputs": [],
   "source": [
    "#Cette fonction renvoie le taux d'erreur étant donné un classifieur et un ensemble de données\n",
    "def taux_erreur(classifieur, data):\n",
    "    x = data[:, :-1]\n",
    "    y = data[:, -1]\n",
    "    data_prob = classifieur.compute_predictions(x)\n",
    "    data_classe_pred = np.argmax(data_prob, axis=1)\n",
    "    \n",
    "    return 100. * np.mean(data_classe_pred != y)"
   ]
  },
  {
   "cell_type": "markdown",
   "metadata": {},
   "source": [
    "Fonction d'affichage des régions de décision "
   ]
  },
  {
   "cell_type": "code",
   "execution_count": 59,
   "metadata": {
    "collapsed": false
   },
   "outputs": [],
   "source": [
    "# fonction plot\n",
    "import pylab\n",
    "def gridplot(classifieur,train,test,n_points=50):\n",
    "\n",
    "    train_test = np.vstack((train,test))\n",
    "    (min_x1,max_x1) = (min(train_test[:,0]),max(train_test[:,0]))\n",
    "    (min_x2,max_x2) = (min(train_test[:,1]),max(train_test[:,1]))\n",
    "\n",
    "    xgrid = np.linspace(min_x1,max_x1,num=n_points)\n",
    "    ygrid = np.linspace(min_x2,max_x2,num=n_points)\n",
    "\n",
    "\t# calcule le produit cartesien entre deux listes\n",
    "    # et met les resultats dans un array\n",
    "    thegrid = np.array(combine(xgrid,ygrid))\n",
    "\n",
    "    les_comptes = classifieur.compute_predictions(thegrid)\n",
    "    classesPred = np.argmax(les_comptes,axis=1)+1\n",
    "\n",
    "    # La grille\n",
    "    pylab.pcolormesh(xgrid, ygrid, classesPred.reshape((n_points, n_points)).T, alpha=.3)\n",
    "\t# Les points d'entrainment\n",
    "    pylab.scatter(train[:,0], train[:,1], c = train[:,-1], marker = 'v', s=50)\n",
    "    # Les points de test\n",
    "    pylab.scatter(test[:,0], test[:,1], c = test[:,-1], marker = 's', s=50)\n",
    "\n",
    "    ## Un petit hack, parce que la fonctionalite manque a pylab...\n",
    "    h1, = pylab.plot([min_x1], [min_x2], marker='o', c = 'w',ms=5) \n",
    "    h2, = pylab.plot([min_x1], [min_x2], marker='v', c = 'w',ms=5) \n",
    "    h3, = pylab.plot([min_x1], [min_x2], marker='s', c = 'w',ms=5) \n",
    "    handles = [h1,h2,h3]\n",
    "    ## fin du hack\n",
    "\n",
    "    labels = ['grille','train','test']\n",
    "    pylab.legend(handles,labels)\n",
    "\n",
    "    pylab.axis('equal')\n",
    "    pylab.show()\n",
    "    \n",
    "## http://code.activestate.com/recipes/302478/\n",
    "def combine(*seqin):\n",
    "    '''returns a list of all combinations of argument sequences.\n",
    "for example: combine((1,2),(3,4)) returns\n",
    "[[1, 3], [1, 4], [2, 3], [2, 4]]'''\n",
    "    def rloop(seqin,listout,comb):\n",
    "        '''recursive looping function'''\n",
    "        if seqin:                       # any more sequences to process?\n",
    "            for item in seqin[0]:\n",
    "                newcomb=comb+[item]     # add next item to current comb\n",
    "                # call rloop w/ rem seqs, newcomb\n",
    "                rloop(seqin[1:],listout,newcomb)\n",
    "        else:                           # processing last sequence\n",
    "            listout.append(comb)        # comb finished, add to list\n",
    "    listout=[]                      # listout initialization\n",
    "    rloop(seqin,listout,[])         # start recursive process\n",
    "    return listout\n"
   ]
  },
  {
   "cell_type": "markdown",
   "metadata": {},
   "source": [
    "Entraînement sur les données 2 moons"
   ]
  },
  {
   "cell_type": "code",
   "execution_count": 77,
   "metadata": {
    "collapsed": false
   },
   "outputs": [
    {
     "name": "stdout",
     "output_type": "stream",
     "text": [
      "(732, 3)\n",
      "(368, 3)\n",
      "The loss after epoque  0  is  0.742051488932\n"
     ]
    },
    {
     "name": "stderr",
     "output_type": "stream",
     "text": [
      "C:\\Users\\zimmae\\Anaconda3\\lib\\site-packages\\ipykernel\\__main__.py:43: VisibleDeprecationWarning: using a non-integer number instead of an integer will result in an error in the future\n",
      "C:\\Users\\zimmae\\Anaconda3\\lib\\site-packages\\ipykernel\\__main__.py:5: VisibleDeprecationWarning: using a non-integer number instead of an integer will result in an error in the future\n"
     ]
    },
    {
     "name": "stdout",
     "output_type": "stream",
     "text": [
      "The loss after epoque  100  is  0.352166076737\n",
      "The loss after epoque  200  is  0.169644528383\n",
      "The loss after epoque  300  is  0.0919171896489\n",
      "The loss after epoque  0  is  0.685970885965\n",
      "The loss after epoque  100  is  0.0919368402694\n",
      "The loss after epoque  200  is  0.0409311253808\n",
      "The loss after epoque  300  is  0.0292997626117\n",
      "The loss after epoque  0  is  0.644463699343\n",
      "The loss after epoque  100  is  0.0492968404146\n",
      "The loss after epoque  200  is  0.0277425461316\n",
      "The loss after epoque  300  is  0.021482160834\n",
      "The loss after epoque  0  is  0.612300734628\n",
      "The loss after epoque  100  is  0.0364763413811\n",
      "The loss after epoque  200  is  0.0226601347814\n",
      "The loss after epoque  300  is  0.018243343968\n",
      "The loss after epoque  0  is  0.587296715005\n",
      "The loss after epoque  100  is  0.0305328991508\n",
      "The loss after epoque  200  is  0.0201282819338\n",
      "The loss after epoque  300  is  0.0167234822095\n",
      "The loss after epoque  0  is  0.771803029409\n",
      "The loss after epoque  100  is  0.431925838554\n",
      "The loss after epoque  200  is  0.415892505417\n",
      "The loss after epoque  300  is  0.397476563154\n",
      "The loss after epoque  0  is  0.758179790466\n",
      "The loss after epoque  100  is  0.397398709547\n",
      "The loss after epoque  200  is  0.286250326373\n",
      "The loss after epoque  300  is  0.165806650576\n",
      "The loss after epoque  0  is  0.745542156705\n",
      "The loss after epoque  100  is  0.330377944069\n",
      "The loss after epoque  200  is  0.139682803225\n",
      "The loss after epoque  300  is  0.077604560005\n",
      "The loss after epoque  0  is  0.733759219254\n",
      "The loss after epoque  100  is  0.240036357068\n",
      "The loss after epoque  200  is  0.0848686785942\n",
      "The loss after epoque  300  is  0.0530788673648\n",
      "The loss after epoque  0  is  0.722730955579\n",
      "The loss after epoque  100  is  0.165324237073\n",
      "The loss after epoque  200  is  0.0624857673887\n",
      "The loss after epoque  300  is  0.0420042597181\n",
      "The loss after epoque  0  is  0.775886838105\n",
      "The loss after epoque  100  is  0.460545782871\n",
      "The loss after epoque  200  is  0.429401091679\n",
      "The loss after epoque  300  is  0.422126716426\n",
      "The loss after epoque  0  is  0.769761891603\n",
      "The loss after epoque  100  is  0.422109486896\n",
      "The loss after epoque  200  is  0.40014193191\n",
      "The loss after epoque  300  is  0.357915182017\n",
      "The loss after epoque  0  is  0.763835057236\n",
      "The loss after epoque  100  is  0.409039873071\n",
      "The loss after epoque  200  is  0.339347125344\n",
      "The loss after epoque  300  is  0.232621781884\n",
      "The loss after epoque  0  is  0.758092911092\n",
      "The loss after epoque  100  is  0.388525190292\n",
      "The loss after epoque  200  is  0.253813469316\n",
      "The loss after epoque  300  is  0.139477031342\n",
      "The loss after epoque  0  is  0.752533024614\n",
      "The loss after epoque  100  is  0.357486822786\n",
      "The loss after epoque  200  is  0.177629289426\n",
      "The loss after epoque  300  is  0.0957604405396\n",
      "[[  1.35869565   1.08695652   1.08695652   1.35869565   1.35869565   0.\n",
      "    0.           0.           0.           0.        ]\n",
      " [ 19.83695652   1.63043478   1.35869565   0.81521739   0.81521739   0.\n",
      "    0.           0.           0.           0.        ]\n",
      " [ 21.73913043  14.13043478   5.16304348   1.63043478   1.35869565   0.\n",
      "    0.           0.           0.           0.        ]\n",
      " [  0.           0.           0.           0.           0.           0.\n",
      "    0.           0.           0.           0.        ]\n",
      " [  0.           0.           0.           0.           0.           0.\n",
      "    0.           0.           0.           0.        ]\n",
      " [  0.           0.           0.           0.           0.           0.\n",
      "    0.           0.           0.           0.        ]\n",
      " [  0.           0.           0.           0.           0.           0.\n",
      "    0.           0.           0.           0.        ]\n",
      " [  0.           0.           0.           0.           0.           0.\n",
      "    0.           0.           0.           0.        ]\n",
      " [  0.           0.           0.           0.           0.           0.\n",
      "    0.           0.           0.           0.        ]\n",
      " [  0.           0.           0.           0.           0.           0.\n",
      "    0.           0.           0.           0.        ]\n",
      " [  0.           0.           0.           0.           0.           0.\n",
      "    0.           0.           0.           0.        ]\n",
      " [  0.           0.           0.           0.           0.           0.\n",
      "    0.           0.           0.           0.        ]\n",
      " [  0.           0.           0.           0.           0.           0.\n",
      "    0.           0.           0.           0.        ]\n",
      " [  0.           0.           0.           0.           0.           0.\n",
      "    0.           0.           0.           0.        ]\n",
      " [  0.           0.           0.           0.           0.           0.\n",
      "    0.           0.           0.           0.        ]]\n"
     ]
    }
   ],
   "source": [
    "import random\n",
    "\n",
    "ntrain = 2* (data.shape[0] // 3)\n",
    "\n",
    "inds = [i for i in range(data.shape[0])]\n",
    "np.random.seed(123)\n",
    "np.random.shuffle(inds)\n",
    "\n",
    "test_inds = inds[:ntrain]\n",
    "validation_inds = inds[ntrain:]\n",
    "\n",
    "#On définit l'ensemble d'entraînement et l'ensemble de validation\n",
    "train_data = data[test_inds,]\n",
    "validation_data = data[validation_inds,]\n",
    "print(train_data.shape)\n",
    "print(validation_data.shape)\n",
    "\n",
    "#Optimisation des paramètres de capacité: nbre couches cachées et lambdas\n",
    "lambdas = np.array([[0., 0.],\n",
    "       [0., 0.]])\n",
    "\n",
    "\n",
    "\n",
    "def frange(start, stop, step):\n",
    "    i = start\n",
    "    while i < stop:\n",
    "        yield i\n",
    "        i += step\n",
    "        \n",
    "erreurs = np.zeros([15,10])\n",
    "i = 0\n",
    "for K in [20, 100, 200]:#range(20,train_data.shape[0],200):\n",
    "    j = 0\n",
    "    for eta in frange(0.01,0.1,0.02):\n",
    "        nn = NeuralNet_loop(2,20,2,lambdas, K)   \n",
    "        nn.train(train_data,400,eta)  \n",
    "        erreurs[i,j] = taux_erreur(nn, validation_data)\n",
    "        j = j + 1\n",
    "    i = i + 1\n",
    "print(erreurs)"
   ]
  },
  {
   "cell_type": "markdown",
   "metadata": {},
   "source": [
    "Affichage des régions de décisions pour plusieurs valeurs d'hyperparamètres"
   ]
  },
  {
   "cell_type": "code",
   "execution_count": 75,
   "metadata": {
    "collapsed": false
   },
   "outputs": [
    {
     "name": "stderr",
     "output_type": "stream",
     "text": [
      "C:\\Users\\zimmae\\Anaconda3\\lib\\site-packages\\ipykernel\\__main__.py:43: VisibleDeprecationWarning: using a non-integer number instead of an integer will result in an error in the future\n",
      "C:\\Users\\zimmae\\Anaconda3\\lib\\site-packages\\ipykernel\\__main__.py:5: VisibleDeprecationWarning: using a non-integer number instead of an integer will result in an error in the future\n"
     ]
    },
    {
     "name": "stdout",
     "output_type": "stream",
     "text": [
      "The loss after epoque  0  is  0.576955713386\n",
      "The loss after epoque  100  is  0.0284379475261\n",
      "The loss after epoque  200  is  0.019198183737\n",
      "The loss after epoque  300  is  0.0162175987163\n"
     ]
    },
    {
     "data": {
      "image/png": "[encoded data removed]",
      "text/plain": [
       "<matplotlib.figure.Figure at 0xa4e4ba8>"
      ]
     },
     "metadata": {},
     "output_type": "display_data"
    }
   ],
   "source": [
    "lambdas = np.array([[0., 0.],\n",
    "       [0., 0.]])\n",
    "nn = NeuralNet_loop(2,20,2,lambdas, 20)   \n",
    "nn.train(train_data,400,0.1) \n",
    "gridplot(nn, train_data, validation_data, 50)\n",
    "#print(nn.W1)\n",
    "#print(nn.W2)\n",
    "#print(nn.b1)\n",
    "#print(nn.b2)\n",
    "print(taux_erreurs(nn, validation_data))\n"
   ]
  },
  {
   "cell_type": "markdown",
   "metadata": {},
   "source": [
    "## 6. Implémentation du calcul de gradient avec expressions matricielles"
   ]
  },
  {
   "cell_type": "markdown",
   "metadata": {},
   "source": [
    "$\\mathbf{W}^{(1)} \\in \\mathbb{R}^{d_h \\times d}$, $\\mathbf{X} \\in \\mathbb{R}^{n \\times d}$ et $\\mathbf{B}^{(1)} \\in \\mathbb{R}^{d_h \\times n}$\n",
    "\n",
    "$$\\mathbf{h}^{a} = \\mathbf{W}^{(1)}\\mathbf{X}^{\\top} + \\mathbf{B}^{(1)} \\in \\mathbb{R}^{d_h \\times n}$$\n"
   ]
  },
  {
   "cell_type": "markdown",
   "metadata": {},
   "source": []
  },
  {
   "cell_type": "markdown",
   "metadata": {
    "collapsed": true
   },
   "source": []
  },
  {
   "cell_type": "markdown",
   "metadata": {
    "collapsed": true
   },
   "source": []
  },
  {
   "cell_type": "code",
   "execution_count": 63,
   "metadata": {
    "collapsed": true
   },
   "outputs": [],
   "source": [
    "class NeuralNetVectorized:\n",
    "    \n",
    "    def __init__(self, n_input, n_hidden, n_out, lambdas, K=1):\n",
    "        \n",
    "        self.n_in = n_input\n",
    "        self.n_h = n_hidden\n",
    "        self.n_o = n_out\n",
    "        self.lambdas = lambdas\n",
    "        self.K = K\n",
    "        \n",
    "        low_bound = -1 / np.sqrt([self.n_in, self.n_h])\n",
    "        up_bound = 1 / np.sqrt([self.n_in, self.n_h])\n",
    "        \n",
    "        # Initialize the parameters\n",
    "        np.random.seed(123)\n",
    "        self.W1 = np.random.uniform(low_bound[0], up_bound[0], size=(self.n_h, self.n_in))  # d_h x d\n",
    "        self.W2 = np.random.uniform(low_bound[1], up_bound[1], size=(self.n_o, self.n_h))  # m x d_h\n",
    "        self.b1 = np.zeros(self.n_h)  # dimension d_h\n",
    "        self.b2 = np.zeros(self.n_o) # dimension m\n",
    "    \n",
    "    def fprop(self, X):\n",
    "        '''\n",
    "        Computes activations for every layer\n",
    "        X: input data set\n",
    "        '''\n",
    "        self.ha = self.W1.dot(X.T) + self.b1.reshape(self.n_h, 1)\n",
    "        self.hs = relu(self.ha)\n",
    "        self.oa = self.W2.dot(self.hs) + self.b2.reshape(self.n_o, 1)\n",
    "        self.os = np.transpose(softmax(self.oa.T))\n",
    "            \n",
    "    def bprop(self, X, Y):\n",
    "        '''\n",
    "        Computes the gradients, must be executed after fprop\n",
    "        X: Input data set\n",
    "        Y: targets\n",
    "        '''\n",
    "        n = X.shape[0]\n",
    "                      \n",
    "        grad_oa = self.os - onehot_matrix(self.n_o, Y)\n",
    "        grad_b2 = np.sum(grad_oa, axis =1) # m x n\n",
    "        grad_W2 = np.dot(grad_oa, self.hs.T) # sum of gradients grad_W2 for each example\n",
    "        grad_hs = self.W2.T.dot(grad_oa) # d_h x n\n",
    "        grad_ha = grad_hs * (self.ha > 0) # d_h x n\n",
    "        grad_W1 = np.dot(grad_ha, X) # sum of gradients grad_W1 for each example\n",
    "        grad_b1 = np.sum(grad_ha, axis =1) # d_h x n\n",
    "        \n",
    "        return grad_W1 / n, grad_W2 / n, grad_b1 / n, grad_b2 / n #returns average of the gradient\n",
    "    \n",
    "    def compute_loss(self, Y):\n",
    "        loss = 0\n",
    "        for i in range(Y.shape[0]):\n",
    "            loss = loss -np.log(self.os[Y[i],i])\n",
    "        return loss\n",
    "    \n",
    "    def train(self, train_data, max_iter, eta=0.05):\n",
    "        \n",
    "        n_batches = int(np.ceil(train_data.shape[0]/self.K)) # number of batches\n",
    "        \n",
    "        for i in range(max_iter):\n",
    "            for j in range(0,train_data.shape[0],self.K):\n",
    "                batch = train_data[j:j+self.K]\n",
    "                \n",
    "                self.fprop(batch[:,:-1])\n",
    "                grad_W1_mean, grad_W2_mean, grad_b1_mean, grad_b2_mean = self.bprop(batch[:,:-1], batch[:,-1]) \n",
    "                \n",
    "                n = len(batch)\n",
    "                \n",
    "                #regularization\n",
    "                penality_grad_W1 = self.lambdas[0][0] * np.sign(self.W1) + 2 * self.lambdas[0][1] * self.W1\n",
    "                penality_grad_W2 = self.lambdas[1][0] * np.sign(self.W2) + 2 * self.lambdas[1][1] * self.W2\n",
    "                \n",
    "                self.W1 = self.W1 - eta * (grad_W1_mean + penality_grad_W1)\n",
    "                self.W2 = self.W2 - eta * (grad_W2_mean + penality_grad_W2)\n",
    "                self.b1 = self.b1 - eta * grad_b1_mean\n",
    "                self.b2 = self.b2 - eta * grad_b2_mean\n",
    "                    \n",
    "    def compute_predictions(self, test_data):\n",
    "        self.fprop(test_data)\n",
    "        pred = self.os\n",
    "\n",
    "        return pred\n",
    "\n"
   ]
  },
  {
   "cell_type": "markdown",
   "metadata": {
    "collapsed": true
   },
   "source": [
    "## 7. Comparaison du gradient des deux implémentations"
   ]
  },
  {
   "cell_type": "code",
   "execution_count": 65,
   "metadata": {
    "collapsed": false
   },
   "outputs": [
    {
     "name": "stderr",
     "output_type": "stream",
     "text": [
      "C:\\Users\\zimmae\\Anaconda3\\lib\\site-packages\\ipykernel\\__main__.py:43: VisibleDeprecationWarning: using a non-integer number instead of an integer will result in an error in the future\n",
      "C:\\Users\\zimmae\\Anaconda3\\lib\\site-packages\\ipykernel\\__main__.py:5: VisibleDeprecationWarning: using a non-integer number instead of an integer will result in an error in the future\n",
      "C:\\Users\\zimmae\\Anaconda3\\lib\\site-packages\\ipykernel\\__main__.py:15: VisibleDeprecationWarning: using a non-integer number instead of an integer will result in an error in the future\n"
     ]
    },
    {
     "name": "stdout",
     "output_type": "stream",
     "text": [
      "[[ 0.06451412 -0.06900175]\n",
      " [ 0.04133331 -0.04728092]]\n",
      "[[ 0.06451412 -0.06900175]\n",
      " [ 0.04133331 -0.04728092]]\n",
      "[[  1.38777878e-17   6.93889390e-17]\n",
      " [ -1.38777878e-17  -2.77555756e-17]]\n",
      "[[-0.10498392  0.0524078 ]\n",
      " [ 0.10498392 -0.0524078 ]]\n",
      "[[-0.10498392  0.0524078 ]\n",
      " [ 0.10498392 -0.0524078 ]]\n",
      "[[ -1.11022302e-16   1.38777878e-17]\n",
      " [  1.11022302e-16  -6.93889390e-18]]\n",
      "[ 0.05953552 -0.03744815]\n",
      "[ 0.05953552 -0.03744815]\n",
      "[  2.08166817e-17  -2.08166817e-17]\n",
      "[-0.06300307  0.06300307]\n",
      "[-0.06300307  0.06300307]\n",
      "[ -1.38777878e-17   1.38777878e-17]\n",
      "[[ 0.06451412 -0.06900175]\n",
      " [ 0.04133331 -0.04728092]]\n",
      "[[ 0.06451412 -0.06900175]\n",
      " [ 0.04133331 -0.04728092]]\n",
      "[[  1.38777878e-17   6.93889390e-17]\n",
      " [ -1.38777878e-17  -2.77555756e-17]]\n",
      "[[-0.10498392  0.0524078 ]\n",
      " [ 0.10498392 -0.0524078 ]]\n",
      "[[-0.10498392  0.0524078 ]\n",
      " [ 0.10498392 -0.0524078 ]]\n",
      "[[ -1.11022302e-16   1.38777878e-17]\n",
      " [  1.11022302e-16  -6.93889390e-18]]\n",
      "[ 0.05953552 -0.03744815]\n",
      "[ 0.05953552 -0.03744815]\n",
      "[  2.08166817e-17  -2.08166817e-17]\n",
      "[-0.06300307  0.06300307]\n",
      "[-0.06300307  0.06300307]\n",
      "[ -1.38777878e-17   1.38777878e-17]\n"
     ]
    }
   ],
   "source": [
    "#initialize a neural network of each implementation, with K=1 and K=10\n",
    "for K in range(1,11,9):\n",
    "    lambdas = np.array([[0, 0],\n",
    "           [0, 0]])\n",
    "    nn_loop = NeuralNet_loop(2,2,2,lambdas, K)\n",
    "    nn_matrix = NeuralNetVectorized(2,2,2,lambdas,K)\n",
    "    \n",
    "    #gradient with loop implementation\n",
    "    grad_W1_loop, grad_W2_loop, grad_b1_loop, grad_b2_loop, _ = nn_loop.bprop(train_data[:,:-1],train_data[:,-1])\n",
    "    \n",
    "    #gradient with matrix multiplications implementation\n",
    "    nn_matrix.fprop(train_data[:,:-1])\n",
    "    grad_W1_mat, grad_W2_mat, grad_b1_mat, grad_b2_mat = nn_matrix.bprop(train_data[:,:-1],train_data[:,-1])\n",
    "    \n",
    "    #print comparison of all gradients\n",
    "    print(grad_W1_loop)\n",
    "    print(grad_W1_mat)\n",
    "    print(grad_W1_loop - grad_W1_mat)\n",
    "\n",
    "    print(grad_W2_loop)\n",
    "    print(grad_W2_mat)\n",
    "    print(grad_W2_loop - grad_W2_mat)\n",
    "\n",
    "    print(grad_b1_loop)\n",
    "    print(grad_b1_mat)\n",
    "    print(grad_b1_loop - grad_b1_mat)\n",
    "\n",
    "    print(grad_b2_loop)\n",
    "    print(grad_b2_mat)\n",
    "    print(grad_b2_loop - grad_b2_mat)\n"
   ]
  },
  {
   "cell_type": "markdown",
   "metadata": {},
   "source": [
    "## 8. Comparaison du temps de calcul pour une époque quand K=100"
   ]
  },
  {
   "cell_type": "markdown",
   "metadata": {},
   "source": [
    "Fetch MNIST dataset"
   ]
  },
  {
   "cell_type": "code",
   "execution_count": 66,
   "metadata": {
    "collapsed": false
   },
   "outputs": [
    {
     "data": {
      "text/plain": [
       "<matplotlib.image.AxesImage at 0xa6812b0>"
      ]
     },
     "execution_count": 66,
     "metadata": {},
     "output_type": "execute_result"
    },
    {
     "data": {
      "image/png": "[encoded data removed]",
      "text/plain": [
       "<matplotlib.figure.Figure at 0x8cb7b70>"
      ]
     },
     "metadata": {},
     "output_type": "display_data"
    }
   ],
   "source": [
    "%matplotlib inline\n",
    "import matplotlib.pyplot as plt\n",
    "from sklearn.datasets import fetch_mldata\n",
    "mnist = fetch_mldata('mnist-original', data_home='/u/dift3395/sklearn_data')\n",
    "\n",
    "plt.imshow(mnist.data[21455,:].reshape(28, 28), interpolation=\"nearest\", cmap='Greys')"
   ]
  },
  {
   "cell_type": "markdown",
   "metadata": {},
   "source": [
    "Diviser le dataset MNIST en ensembles train, valid et test."
   ]
  },
  {
   "cell_type": "code",
   "execution_count": 67,
   "metadata": {
    "collapsed": false
   },
   "outputs": [
    {
     "name": "stdout",
     "output_type": "stream",
     "text": [
      "(70000, 784)\n",
      "(50000, 785)\n",
      "(732, 3)\n"
     ]
    }
   ],
   "source": [
    "indices = np.random.permutation(len(mnist['target']))\n",
    "\n",
    "print(mnist['data'].shape)\n",
    "\n",
    "X_train = mnist['data'][indices][:50000]/255.\n",
    "X_valid = mnist['data'][indices][50000:60000]/255.\n",
    "X_test = mnist['data'][indices][60000:]/255.\n",
    "y_train = mnist['target'][indices][:50000]\n",
    "y_valid = mnist['target'][indices][50000:60000]\n",
    "y_test = mnist['target'][indices][60000:]\n",
    "\n",
    "#from keras.utils import np_utils\n",
    "#y_train = np_utils.to_categorical(y_train)\n",
    "#y_valid = np_utils.to_categorical(y_valid)\n",
    "#y_test = np_utils.to_categorical(y_test)\n",
    "\n",
    "#concatenate data and target into one np.array\n",
    "train = np.concatenate((X_train, np.reshape(y_train, (50000,1))), axis=1)\n",
    "valid = np.concatenate((X_valid, np.reshape(y_valid, (10000,1))), axis=1)\n",
    "test = np.concatenate((X_test, np.reshape(y_test, (10000,1))), axis=1)\n",
    "\n",
    "print(train.shape)\n",
    "print(train_data.shape)"
   ]
  },
  {
   "cell_type": "code",
   "execution_count": 68,
   "metadata": {
    "collapsed": false
   },
   "outputs": [
    {
     "name": "stderr",
     "output_type": "stream",
     "text": [
      "C:\\Users\\zimmae\\Anaconda3\\lib\\site-packages\\ipykernel\\__main__.py:43: VisibleDeprecationWarning: using a non-integer number instead of an integer will result in an error in the future\n",
      "C:\\Users\\zimmae\\Anaconda3\\lib\\site-packages\\ipykernel\\__main__.py:5: VisibleDeprecationWarning: using a non-integer number instead of an integer will result in an error in the future\n"
     ]
    },
    {
     "name": "stdout",
     "output_type": "stream",
     "text": [
      "0.834191084799\n",
      "--- 5.833999872207642 seconds ---\n"
     ]
    },
    {
     "name": "stderr",
     "output_type": "stream",
     "text": [
      "C:\\Users\\zimmae\\Anaconda3\\lib\\site-packages\\ipykernel\\__main__.py:15: VisibleDeprecationWarning: using a non-integer number instead of an integer will result in an error in the future\n"
     ]
    },
    {
     "name": "stdout",
     "output_type": "stream",
     "text": [
      "--- 0.6530001163482666 seconds ---\n"
     ]
    }
   ],
   "source": [
    "#initializing neural networks\n",
    "nn_loop = NeuralNet_loop(784,20,10,lambdas,100)\n",
    "nn_matrix = NeuralNetVectorized(784,20,10,lambdas,100)\n",
    "\n",
    "#train both neural networks\n",
    "import time\n",
    "start_time = time.time()\n",
    "nn_loop.train(train,1,0.05)\n",
    "print(\"--- %s seconds ---\" % (time.time() - start_time))\n",
    "\n",
    "start_time = time.time()\n",
    "nn_matrix.train(train,1,0.05)\n",
    "print(\"--- %s seconds ---\" % (time.time() - start_time))"
   ]
  },
  {
   "cell_type": "markdown",
   "metadata": {},
   "source": [
    "## 9. Calcul de taux d'erreur de classification sur MNIST"
   ]
  },
  {
   "cell_type": "markdown",
   "metadata": {},
   "source": [
    "Modification de la classe NeuralNetworkVectorized pour calculer les valeurs recherchées à chaque époque de la phase l'entraînement"
   ]
  },
  {
   "cell_type": "code",
   "execution_count": 69,
   "metadata": {
    "collapsed": false
   },
   "outputs": [],
   "source": [
    "class NeuralNetVectorized2:\n",
    "    \n",
    "    def __init__(self, n_input, n_hidden, n_out, lambdas, K=1):\n",
    "        \n",
    "        self.n_in = n_input\n",
    "        self.n_h = n_hidden\n",
    "        self.n_o = n_out\n",
    "        self.lambdas = lambdas\n",
    "        self.K = K\n",
    "        \n",
    "        low_bound = -1 / np.sqrt([self.n_in, self.n_h])\n",
    "        up_bound = 1 / np.sqrt([self.n_in, self.n_h])\n",
    "        \n",
    "        # Initialize the parameters\n",
    "        np.random.seed(123)\n",
    "        self.W1 = np.random.uniform(low_bound[0], up_bound[0], size=(self.n_h, self.n_in))  # d_h x d\n",
    "        self.W2 = np.random.uniform(low_bound[1], up_bound[1], size=(self.n_o, self.n_h))  # m x d_h\n",
    "        self.b1 = np.zeros(self.n_h)  # dimension d_h\n",
    "        self.b2 = np.zeros(self.n_o) # dimension m\n",
    "    \n",
    "    def fprop(self, X):\n",
    "        '''\n",
    "        Computes activations for every layer\n",
    "        X: input data set\n",
    "        '''\n",
    "        self.ha = self.W1.dot(X.T) + self.b1.reshape(self.n_h, 1)\n",
    "        self.hs = relu(self.ha)\n",
    "        self.oa = self.W2.dot(self.hs) + self.b2.reshape(self.n_o, 1)\n",
    "        self.os = np.transpose(softmax(self.oa.T))\n",
    "            \n",
    "    def bprop(self, X, Y):\n",
    "        '''\n",
    "        Computes the gradients, must be executed after fprop\n",
    "        X: Input data set\n",
    "        Y: targets\n",
    "        '''\n",
    "        n = X.shape[0]\n",
    "                      \n",
    "        grad_oa = self.os - onehot_matrix(self.n_o, Y)\n",
    "        grad_b2 = np.sum(grad_oa, axis =1) # m x n\n",
    "        grad_W2 = np.dot(grad_oa, self.hs.T) # sum of gradients grad_W2 for each example\n",
    "        grad_hs = self.W2.T.dot(grad_oa) # d_h x n\n",
    "        grad_ha = grad_hs * (self.ha > 0) # d_h x n\n",
    "        grad_W1 = np.dot(grad_ha, X) # sum of gradients grad_W1 for each example\n",
    "        grad_b1 = np.sum(grad_ha, axis =1) # d_h x n\n",
    "        \n",
    "        return grad_W1 / n, grad_W2 / n, grad_b1 / n, grad_b2 / n #returns average of the gradient\n",
    "    \n",
    "    def compute_loss(self, Y):\n",
    "        ind = [i for i in range(Y.shape[0])]\n",
    "        loss = self.os[Y.astype(int),ind]\n",
    "        return np.sum(-np.log(loss))\n",
    "    \n",
    "    def train(self, train_data, valid_data, test_data, max_iter, eta=0.05):\n",
    "        \n",
    "        n_batches = int(np.ceil(train_data.shape[0]/self.K)) # number of batches\n",
    "        \n",
    "        for i in range(max_iter):\n",
    "            for j in range(0,train_data.shape[0],self.K):\n",
    "                batch = train_data[j:j+self.K]\n",
    "                \n",
    "                self.fprop(batch[:,:-1])\n",
    "                grad_W1_mean, grad_W2_mean, grad_b1_mean, grad_b2_mean = self.bprop(batch[:,:-1], batch[:,-1]) \n",
    "                \n",
    "                n = len(batch)\n",
    "                \n",
    "                #regularization\n",
    "                penality_grad_W1 = self.lambdas[0][0] * np.sign(self.W1) + 2 * self.lambdas[0][1] * self.W1\n",
    "                penality_grad_W2 = self.lambdas[1][0] * np.sign(self.W2) + 2 * self.lambdas[1][1] * self.W2\n",
    "                \n",
    "                self.W1 = self.W1 - eta * (grad_W1_mean + penality_grad_W1)\n",
    "                self.W2 = self.W2 - eta * (grad_W2_mean + penality_grad_W2)\n",
    "                self.b1 = self.b1 - eta * grad_b1_mean\n",
    "                self.b2 = self.b2 - eta * grad_b2_mean\n",
    "                    \n",
    "            self.write_in_file(train_data, valid_data, test_data)\n",
    "                    \n",
    "    def compute_predictions(self, test_data):\n",
    "        self.fprop(test_data)\n",
    "        pred = self.os\n",
    "\n",
    "        return pred\n",
    "    \n",
    "    def write_in_file(self,train_data,valid_data,test_data):\n",
    "        train_prob = self.compute_predictions(train_data[:,:-1])\n",
    "        train_classe_pred = np.argmax(train_prob, axis = 0)  \n",
    "        valid_prob = self.compute_predictions(valid_data[:,:-1])\n",
    "        valid_classe_pred = np.argmax(valid_prob, axis = 0)\n",
    "        test_prob = self.compute_predictions(test_data[:,:-1])\n",
    "        test_classe_pred = np.argmax(test_prob, axis = 0)\n",
    "        classif_erreur_train = 100*float(sum(sum([train_classe_pred != train_data[:,-1]])))/train_data.shape[0]\n",
    "        classif_erreur_valid = 100*float(sum(sum([valid_classe_pred != valid_data[:,-1]])))/valid_data.shape[0]\n",
    "        classif_erreur_test = 100*float(sum(sum([test_classe_pred != test_data[:,-1]])))/test_data.shape[0]\n",
    "        self.fprop(train_data[:,:-1])\n",
    "        loss_train = self.compute_loss(train_data[:,-1])\n",
    "        print(classif_erreur_train)\n",
    "        print(classif_erreur_test)\n",
    "        print(classif_erreur_valid)\n",
    "        print(loss_train)\n"
   ]
  },
  {
   "cell_type": "code",
   "execution_count": 218,
   "metadata": {
    "collapsed": false
   },
   "outputs": [
    {
     "name": "stdout",
     "output_type": "stream",
     "text": [
      "[7 3 7 2 2 6 7 0 0 9 7 3 8 0 6 8 8 8 8 3]\n"
     ]
    }
   ],
   "source": [
    "lambdas = np.array([[0.01, 0.01],\n",
    "           [0.01, 0.01]])\n",
    "nn_mnist = NeuralNetVectorized2(784,64,10,lambdas,train.shape[0])\n",
    "\n",
    "nn_mnist.fprop(train[:,:-1])\n",
    "#print(nn_mnist.ha)\n",
    "#print(nn_mnist.hs)\n",
    "#print(nn_mnist.oa)\n",
    "#print(nn_mnist.os)\n",
    "print(nn_mnist.compute_loss(train[:,-1]))\n",
    "nn_mnist.train(train,test,valid,10,0.01)\n"
   ]
  },
  {
   "cell_type": "code",
   "execution_count": null,
   "metadata": {
    "collapsed": true
   },
   "outputs": [],
   "source": []
  }
 ],
 "metadata": {
  "anaconda-cloud": {},
  "kernelspec": {
   "display_name": "Python [default]",
   "language": "python",
   "name": "python3"
  },
  "language_info": {
   "codemirror_mode": {
    "name": "ipython",
    "version": 3
   },
   "file_extension": ".py",
   "mimetype": "text/x-python",
   "name": "python",
   "nbconvert_exporter": "python",
   "pygments_lexer": "ipython3",
   "version": "3.5.2"
  }
 },
 "nbformat": 4,
 "nbformat_minor": 1
}
